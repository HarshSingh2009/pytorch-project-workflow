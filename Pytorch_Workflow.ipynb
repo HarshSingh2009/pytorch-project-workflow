{
  "nbformat": 4,
  "nbformat_minor": 0,
  "metadata": {
    "colab": {
      "provenance": [],
      "gpuType": "T4"
    },
    "kernelspec": {
      "name": "python3",
      "display_name": "Python 3"
    },
    "language_info": {
      "name": "python"
    },
    "accelerator": "GPU"
  },
  "cells": [
    {
      "cell_type": "markdown",
      "source": [
        "# Pytorch Workflow\n",
        "\n",
        "> In this Notebook you are going to learn about one of the ways of how a project is built using `Pytorch end-to-end Worflow`\n",
        "\n",
        "![alt-text](https://raw.githubusercontent.com/mrdbourke/pytorch-deep-learning/main/images/01_a_pytorch_workflow.png)\n",
        "\n"
      ],
      "metadata": {
        "id": "6YWAERvfnILL"
      }
    },
    {
      "cell_type": "markdown",
      "source": [
        "## What are we going to cover:\n",
        "\n",
        "* Data (Preparing, Loading, Preprocessing)\n",
        "* Building `Pytorch model`\n",
        "* Fitting the model to data (training)\n",
        "* Making Predictions and evaluating a model\n",
        "* Saving and loading a model\n",
        "* Putting it all together to understand much better"
      ],
      "metadata": {
        "id": "_GZFp3Y7olUK"
      }
    },
    {
      "cell_type": "code",
      "source": [
        "import torch\n",
        "from torch import nn\n",
        "\n",
        "import numpy as np\n",
        "import matplotlib.pyplot as plt"
      ],
      "metadata": {
        "id": "0a1W5vgXnqYA"
      },
      "execution_count": 1,
      "outputs": []
    },
    {
      "cell_type": "code",
      "source": [
        "torch.__version__"
      ],
      "metadata": {
        "colab": {
          "base_uri": "https://localhost:8080/",
          "height": 35
        },
        "id": "nv0dg7hlph8o",
        "outputId": "281fdd96-ed66-425a-dfdc-ed5fe1e703f9"
      },
      "execution_count": 2,
      "outputs": [
        {
          "output_type": "execute_result",
          "data": {
            "text/plain": [
              "'2.1.0+cu118'"
            ],
            "application/vnd.google.colaboratory.intrinsic+json": {
              "type": "string"
            }
          },
          "metadata": {},
          "execution_count": 2
        }
      ]
    },
    {
      "cell_type": "markdown",
      "source": [
        "## 1. Data Preparing and loading\n",
        "\n",
        "* We are going to create some *known* data using the `Linear Regression Formula`\n",
        "\n",
        "Linear regression: Y = a + bX\n",
        "\n",
        "We will pre-define the weights and bias, that is B and A respectively"
      ],
      "metadata": {
        "id": "cXCEeKo4plJe"
      }
    },
    {
      "cell_type": "code",
      "source": [
        "# Create some known params like weights and bias\n",
        "weight = 0.7\n",
        "bias = 0.3\n",
        "\n",
        "# Create linear dataset\n",
        "START = 0\n",
        "END = 1\n",
        "STEP = 0.02\n",
        "X = torch.arange(START, END, STEP).unsqueeze(dim=1)\n",
        "y = weight * X + bias # y = a + bx"
      ],
      "metadata": {
        "id": "jZFdpXuBpufc"
      },
      "execution_count": 3,
      "outputs": []
    },
    {
      "cell_type": "code",
      "source": [
        "X[:10], X.shape"
      ],
      "metadata": {
        "colab": {
          "base_uri": "https://localhost:8080/"
        },
        "id": "Bxt_HhsnreMw",
        "outputId": "11ed45f8-9e83-4ef7-a55b-c7bc5c70a955"
      },
      "execution_count": 4,
      "outputs": [
        {
          "output_type": "execute_result",
          "data": {
            "text/plain": [
              "(tensor([[0.0000],\n",
              "         [0.0200],\n",
              "         [0.0400],\n",
              "         [0.0600],\n",
              "         [0.0800],\n",
              "         [0.1000],\n",
              "         [0.1200],\n",
              "         [0.1400],\n",
              "         [0.1600],\n",
              "         [0.1800]]),\n",
              " torch.Size([50, 1]))"
            ]
          },
          "metadata": {},
          "execution_count": 4
        }
      ]
    },
    {
      "cell_type": "code",
      "source": [
        "y[:10], y.shape"
      ],
      "metadata": {
        "colab": {
          "base_uri": "https://localhost:8080/"
        },
        "id": "N78Qq6GdrhRB",
        "outputId": "9451e6eb-3f36-445b-9156-6df8cad11e43"
      },
      "execution_count": 5,
      "outputs": [
        {
          "output_type": "execute_result",
          "data": {
            "text/plain": [
              "(tensor([[0.3000],\n",
              "         [0.3140],\n",
              "         [0.3280],\n",
              "         [0.3420],\n",
              "         [0.3560],\n",
              "         [0.3700],\n",
              "         [0.3840],\n",
              "         [0.3980],\n",
              "         [0.4120],\n",
              "         [0.4260]]),\n",
              " torch.Size([50, 1]))"
            ]
          },
          "metadata": {},
          "execution_count": 5
        }
      ]
    },
    {
      "cell_type": "markdown",
      "source": [
        "### Splitting data Train and Test sets\n",
        "\n",
        "* `Training set`: Data used for model to train up on | `~70-80%` | `Always used`\n",
        "* `Testing set`: Data used for testing model's testing accuracy while its training | `~10-15%` | `Always used`\n",
        "* `Validation set`: Data used to test model against the wild and if it' ready for deployment. This is done after model training is over. | `~10-15%` | `Often, not always`\n",
        "\n",
        "**What do you mean by Model is Generalized ?**\n",
        "> Patterns found out by model which are generalized and can be applied, to even unseen data while it predicts with good accuracy!"
      ],
      "metadata": {
        "id": "TEhK6ZGasJGL"
      }
    },
    {
      "cell_type": "code",
      "source": [
        "# Create a train test split\n",
        "train_split = int(len(X)*0.8)\n",
        "train_split"
      ],
      "metadata": {
        "colab": {
          "base_uri": "https://localhost:8080/"
        },
        "id": "ePeavkHErneA",
        "outputId": "4559df51-e6c0-4c19-d8e3-5b158a8f78eb"
      },
      "execution_count": 6,
      "outputs": [
        {
          "output_type": "execute_result",
          "data": {
            "text/plain": [
              "40"
            ]
          },
          "metadata": {},
          "execution_count": 6
        }
      ]
    },
    {
      "cell_type": "code",
      "source": [
        "X_train, y_train = X[:train_split], y[:train_split]\n",
        "X_test, y_test = X[train_split:], y[train_split:]\n",
        "X_train.shape, y_train.shape, X_test.shape, y_test.shape"
      ],
      "metadata": {
        "colab": {
          "base_uri": "https://localhost:8080/"
        },
        "id": "WWH0-AtvuQxn",
        "outputId": "ff31819a-53f8-4bc4-d33c-c7c2da219b20"
      },
      "execution_count": 7,
      "outputs": [
        {
          "output_type": "execute_result",
          "data": {
            "text/plain": [
              "(torch.Size([40, 1]),\n",
              " torch.Size([40, 1]),\n",
              " torch.Size([10, 1]),\n",
              " torch.Size([10, 1]))"
            ]
          },
          "metadata": {},
          "execution_count": 7
        }
      ]
    },
    {
      "cell_type": "code",
      "source": [
        "X_train, y_train"
      ],
      "metadata": {
        "colab": {
          "base_uri": "https://localhost:8080/"
        },
        "id": "VaT3Pz9PukBn",
        "outputId": "f0d77936-4e38-481a-95ee-9106ef77b7f5"
      },
      "execution_count": 8,
      "outputs": [
        {
          "output_type": "execute_result",
          "data": {
            "text/plain": [
              "(tensor([[0.0000],\n",
              "         [0.0200],\n",
              "         [0.0400],\n",
              "         [0.0600],\n",
              "         [0.0800],\n",
              "         [0.1000],\n",
              "         [0.1200],\n",
              "         [0.1400],\n",
              "         [0.1600],\n",
              "         [0.1800],\n",
              "         [0.2000],\n",
              "         [0.2200],\n",
              "         [0.2400],\n",
              "         [0.2600],\n",
              "         [0.2800],\n",
              "         [0.3000],\n",
              "         [0.3200],\n",
              "         [0.3400],\n",
              "         [0.3600],\n",
              "         [0.3800],\n",
              "         [0.4000],\n",
              "         [0.4200],\n",
              "         [0.4400],\n",
              "         [0.4600],\n",
              "         [0.4800],\n",
              "         [0.5000],\n",
              "         [0.5200],\n",
              "         [0.5400],\n",
              "         [0.5600],\n",
              "         [0.5800],\n",
              "         [0.6000],\n",
              "         [0.6200],\n",
              "         [0.6400],\n",
              "         [0.6600],\n",
              "         [0.6800],\n",
              "         [0.7000],\n",
              "         [0.7200],\n",
              "         [0.7400],\n",
              "         [0.7600],\n",
              "         [0.7800]]),\n",
              " tensor([[0.3000],\n",
              "         [0.3140],\n",
              "         [0.3280],\n",
              "         [0.3420],\n",
              "         [0.3560],\n",
              "         [0.3700],\n",
              "         [0.3840],\n",
              "         [0.3980],\n",
              "         [0.4120],\n",
              "         [0.4260],\n",
              "         [0.4400],\n",
              "         [0.4540],\n",
              "         [0.4680],\n",
              "         [0.4820],\n",
              "         [0.4960],\n",
              "         [0.5100],\n",
              "         [0.5240],\n",
              "         [0.5380],\n",
              "         [0.5520],\n",
              "         [0.5660],\n",
              "         [0.5800],\n",
              "         [0.5940],\n",
              "         [0.6080],\n",
              "         [0.6220],\n",
              "         [0.6360],\n",
              "         [0.6500],\n",
              "         [0.6640],\n",
              "         [0.6780],\n",
              "         [0.6920],\n",
              "         [0.7060],\n",
              "         [0.7200],\n",
              "         [0.7340],\n",
              "         [0.7480],\n",
              "         [0.7620],\n",
              "         [0.7760],\n",
              "         [0.7900],\n",
              "         [0.8040],\n",
              "         [0.8180],\n",
              "         [0.8320],\n",
              "         [0.8460]]))"
            ]
          },
          "metadata": {},
          "execution_count": 8
        }
      ]
    },
    {
      "cell_type": "markdown",
      "source": [
        "### Visualizing our Linear Dataset using Matplotlib"
      ],
      "metadata": {
        "id": "48OEfzI6usHt"
      }
    },
    {
      "cell_type": "code",
      "source": [
        "def plot_predictions(train_data=X_train, train_labels=y_train,\n",
        "                     test_data=X_test, test_labels=y_test,\n",
        "                     predictions=None):\n",
        "  plt.scatter(X_train, y_train, color='orange', s=4, label='Training set')\n",
        "  plt.scatter(X_test, y_test, color='blue', s=4, label='Testing set')\n",
        "  if predictions != None:\n",
        "    plt.scatter(X_test, predictions, color='green', s=4, label='predictions')\n",
        "  plt.title('Train vs Test vs Prediction plot')\n",
        "  plt.legend()\n",
        "  plt.show()\n",
        "\n",
        "plot_predictions()"
      ],
      "metadata": {
        "colab": {
          "base_uri": "https://localhost:8080/",
          "height": 452
        },
        "id": "2L3tpHeFuqZL",
        "outputId": "a1ccbf75-e8c5-4502-8b25-4d709113aa48"
      },
      "execution_count": 9,
      "outputs": [
        {
          "output_type": "display_data",
          "data": {
            "text/plain": [
              "<Figure size 640x480 with 1 Axes>"
            ],
            "image/png": "[encoded data removed]"
          },
          "metadata": {}
        }
      ]
    },
    {
      "cell_type": "markdown",
      "source": [
        "## 2. Build Pytorch Model\n",
        "\n",
        "* Almost everything in Pytorch inherits from `torch.nn.Module`\n",
        "\n",
        "Model built here, has the following goal:\n",
        "> `Model Goal`: Find out the best values of weights and bias, such that it suits the representation of data. These weights and biases can be called Patterns\n",
        "\n",
        "**Keep in mind, value of weight and bias are known to us already!!**"
      ],
      "metadata": {
        "id": "EgUXIsZWwLbF"
      }
    },
    {
      "cell_type": "code",
      "source": [
        "from torch import nn\n",
        "# Create a linear regression model class\n",
        "class LinearRegressionModel(nn.Module):\n",
        "  def __init__(self):\n",
        "    super().__init__()\n",
        "    # Random initialization of weights and bias\n",
        "    self.weights = nn.Parameter(torch.randn(1,\n",
        "                                            requires_grad=True,\n",
        "                                            dtype=torch.float))\n",
        "    self.bias = nn.Parameter(torch.rand(1,\n",
        "                                        requires_grad=True,\n",
        "                                        dtype=torch.float))\n",
        "  # Forward propagation (Linear Regression Formula)\n",
        "  def forward(self, x:torch.Tensor) -> torch.Tensor:\n",
        "    return self.weights * x + self.bias"
      ],
      "metadata": {
        "id": "aS3fnzJFvsWQ"
      },
      "execution_count": 10,
      "outputs": []
    },
    {
      "cell_type": "markdown",
      "source": [
        "### Pytorch model building essentials\n",
        "\n",
        "* **`torch.nn`** - contains all of the building blocks (layers, models, loss-functions, activations, etc) for building neural network models using Pytorch!!\n",
        "\n",
        "* **`torch.nn.Parameter`** - helps us make some paraemters for the model, often a Pytorch Layer from `torch.nn` will set these parameters using `torch.nn.Parameter`for for us!!\n",
        "\n",
        "* **`torch.nn.Module`** - base class for all neural network modules, if you sublcass it, you will have to overwrite the `forward()` which allows us to perform `Forward Propagation`\n",
        "\n",
        "* **`torch.optim`** - contain optimizers in Pytorch that are required for performing `Gradient Descent` and `Backpropgation` while training model\n",
        "\n",
        "> **def forward()** - defines how `Forward Propagation` takes place in `Models`"
      ],
      "metadata": {
        "id": "0VVA10tgwlqa"
      }
    },
    {
      "cell_type": "markdown",
      "source": [
        "### Checking the contents of our Simple Neural Network Pytorch model\n",
        "\n",
        "So we can check out our model parameters or what's inside our moedl using `.parameters()`"
      ],
      "metadata": {
        "id": "9bTWMFFE-Nua"
      }
    },
    {
      "cell_type": "code",
      "source": [
        "# Create a random seed\n",
        "# because we want the same random initialized weights and bias to occur\n",
        "torch.manual_seed(42)\n",
        "\n",
        "# Create an instance of our Linear Regression Model\n",
        "model_0 = LinearRegressionModel()\n",
        "\n",
        "# Check out parameters\n",
        "list(model_0.parameters())"
      ],
      "metadata": {
        "colab": {
          "base_uri": "https://localhost:8080/"
        },
        "id": "QQrzfB6cBfEY",
        "outputId": "b1f8f93e-3aec-430b-e65e-0dd96fd27f33"
      },
      "execution_count": 11,
      "outputs": [
        {
          "output_type": "execute_result",
          "data": {
            "text/plain": [
              "[Parameter containing:\n",
              " tensor([0.3367], requires_grad=True),\n",
              " Parameter containing:\n",
              " tensor([0.3904], requires_grad=True)]"
            ]
          },
          "metadata": {},
          "execution_count": 11
        }
      ]
    },
    {
      "cell_type": "code",
      "source": [
        "model_0.state_dict()"
      ],
      "metadata": {
        "colab": {
          "base_uri": "https://localhost:8080/"
        },
        "id": "5IxhdRPWCR2z",
        "outputId": "46dbc12f-fe1a-47b1-eaab-939d6676879d"
      },
      "execution_count": 12,
      "outputs": [
        {
          "output_type": "execute_result",
          "data": {
            "text/plain": [
              "OrderedDict([('weights', tensor([0.3367])), ('bias', tensor([0.3904]))])"
            ]
          },
          "metadata": {},
          "execution_count": 12
        }
      ]
    },
    {
      "cell_type": "code",
      "source": [
        "weight, bias"
      ],
      "metadata": {
        "colab": {
          "base_uri": "https://localhost:8080/"
        },
        "id": "vfxExlBBDZo3",
        "outputId": "ad85ef5c-c5ec-4886-fdb7-95de4459a466"
      },
      "execution_count": 13,
      "outputs": [
        {
          "output_type": "execute_result",
          "data": {
            "text/plain": [
              "(0.7, 0.3)"
            ]
          },
          "metadata": {},
          "execution_count": 13
        }
      ]
    },
    {
      "cell_type": "markdown",
      "source": [
        "## Predicting with our Randomly initialized Model\n",
        "\n",
        "> Use: `torch.inference_mode()` when making predictions\n",
        "\n",
        "* When we pass our data to the model, its going to run it through the `forward()` method, therefore doing the `forward propagation`. Moreover, it just uses the Linear Regression formula with weigths and bias randomly initialized as we saw!!"
      ],
      "metadata": {
        "id": "IUdYbinTDgRZ"
      }
    },
    {
      "cell_type": "code",
      "source": [
        "X_test, X_test.shape, y_test, y_test.shape"
      ],
      "metadata": {
        "colab": {
          "base_uri": "https://localhost:8080/"
        },
        "id": "HsZfcxydEzSS",
        "outputId": "f2f65515-09af-429f-86ec-b6d522dd8b12"
      },
      "execution_count": 14,
      "outputs": [
        {
          "output_type": "execute_result",
          "data": {
            "text/plain": [
              "(tensor([[0.8000],\n",
              "         [0.8200],\n",
              "         [0.8400],\n",
              "         [0.8600],\n",
              "         [0.8800],\n",
              "         [0.9000],\n",
              "         [0.9200],\n",
              "         [0.9400],\n",
              "         [0.9600],\n",
              "         [0.9800]]),\n",
              " torch.Size([10, 1]),\n",
              " tensor([[0.8600],\n",
              "         [0.8740],\n",
              "         [0.8880],\n",
              "         [0.9020],\n",
              "         [0.9160],\n",
              "         [0.9300],\n",
              "         [0.9440],\n",
              "         [0.9580],\n",
              "         [0.9720],\n",
              "         [0.9860]]),\n",
              " torch.Size([10, 1]))"
            ]
          },
          "metadata": {},
          "execution_count": 14
        }
      ]
    },
    {
      "cell_type": "markdown",
      "source": [
        "### **What is `torch.inference_mode()`**\n",
        "> Well, our Pytorch model, when defining model training parameters, switches on `requires_grad = True`, which means, that the parameter values will be tracked and for gradients to be computed during `Backpropagation & Gradient Descent`, it stores the values!!\n",
        "\n",
        "> However, we often tend to use `torch.inference_mode()` while we are making predictions on test data! When we use this method, it switches off all `gradient tracking`, therefore none of the parameters are stored, and hence it results to the data just flowing through the model `(forward propagation)`, therefore decreasing the time taken for making predictions by the model\n",
        "\n",
        "\n",
        "* **You can also use torch.no_grad() as well, but torch.inference_mode() is preferred as it seems most of the times work faster!!**"
      ],
      "metadata": {
        "id": "xR09KwRoF_E9"
      }
    },
    {
      "cell_type": "code",
      "source": [
        "with torch.inference_mode():\n",
        "  y_preds = model_0(X_test)\n",
        "\n",
        "y_preds"
      ],
      "metadata": {
        "colab": {
          "base_uri": "https://localhost:8080/"
        },
        "id": "iiMbv3f8EEXG",
        "outputId": "2c8e9535-d1d7-4a5d-b920-9a128fffa5f1"
      },
      "execution_count": 15,
      "outputs": [
        {
          "output_type": "execute_result",
          "data": {
            "text/plain": [
              "tensor([[0.6598],\n",
              "        [0.6665],\n",
              "        [0.6733],\n",
              "        [0.6800],\n",
              "        [0.6867],\n",
              "        [0.6935],\n",
              "        [0.7002],\n",
              "        [0.7069],\n",
              "        [0.7137],\n",
              "        [0.7204]])"
            ]
          },
          "metadata": {},
          "execution_count": 15
        }
      ]
    },
    {
      "cell_type": "code",
      "source": [
        "plot_predictions(predictions=y_preds)"
      ],
      "metadata": {
        "colab": {
          "base_uri": "https://localhost:8080/",
          "height": 452
        },
        "id": "0OcPvEPVFDHQ",
        "outputId": "b9a37889-799e-4a77-e470-3b51d16c6397"
      },
      "execution_count": 16,
      "outputs": [
        {
          "output_type": "display_data",
          "data": {
            "text/plain": [
              "<Figure size 640x480 with 1 Axes>"
            ],
            "image/png": "[encoded data removed]"
          },
          "metadata": {}
        }
      ]
    },
    {
      "cell_type": "markdown",
      "source": [
        "## 3. Train Model\n",
        "\n",
        "We have to add a lot of things to our model while training it:\n",
        "* **`Training Loop & Testing Loop`**: This is where model training, gradient descent, back-propagation and evalutating models using test data happens!!\n",
        "* **`Loss Function`**: Calculates the loss between actual vs predicted! | **Lower is better!!**\n",
        "* **`Optimizer`**: Takes the loss and optimizes model, by using **Gradient Descent & Backpropagation** to manipulate trainable parameters, so to decrease loss!"
      ],
      "metadata": {
        "id": "o-s95LabFQBP"
      }
    },
    {
      "cell_type": "code",
      "source": [
        "list(model_0.parameters())"
      ],
      "metadata": {
        "colab": {
          "base_uri": "https://localhost:8080/"
        },
        "id": "HjhZnPfwIfn_",
        "outputId": "efb26ad9-12d8-4ea1-bf65-4a340fa0058c"
      },
      "execution_count": 17,
      "outputs": [
        {
          "output_type": "execute_result",
          "data": {
            "text/plain": [
              "[Parameter containing:\n",
              " tensor([0.3367], requires_grad=True),\n",
              " Parameter containing:\n",
              " tensor([0.3904], requires_grad=True)]"
            ]
          },
          "metadata": {},
          "execution_count": 17
        }
      ]
    },
    {
      "cell_type": "code",
      "source": [
        "model_0.state_dict()"
      ],
      "metadata": {
        "colab": {
          "base_uri": "https://localhost:8080/"
        },
        "id": "iBfowpMLJ5xH",
        "outputId": "e8624f15-fbba-4514-ad60-21f695f222e0"
      },
      "execution_count": 18,
      "outputs": [
        {
          "output_type": "execute_result",
          "data": {
            "text/plain": [
              "OrderedDict([('weights', tensor([0.3367])), ('bias', tensor([0.3904]))])"
            ]
          },
          "metadata": {},
          "execution_count": 18
        }
      ]
    },
    {
      "cell_type": "code",
      "source": [
        "# Setup a loss function\n",
        "loss_fn = nn.L1Loss()\n",
        "\n",
        "# Setup an optimizer (SGD- Stochastic Gradient Descent)\n",
        "optimizer = torch.optim.SGD(params=model_0.parameters(),\n",
        "                            lr=0.01)"
      ],
      "metadata": {
        "id": "ywkPs33QJ8fB"
      },
      "execution_count": 19,
      "outputs": []
    },
    {
      "cell_type": "code",
      "source": [
        "loss_fn, optimizer"
      ],
      "metadata": {
        "colab": {
          "base_uri": "https://localhost:8080/"
        },
        "id": "1-O49TcciTpi",
        "outputId": "c336ebc0-5dd0-4c02-bfb0-9f9ab80f86f3"
      },
      "execution_count": 20,
      "outputs": [
        {
          "output_type": "execute_result",
          "data": {
            "text/plain": [
              "(L1Loss(),\n",
              " SGD (\n",
              " Parameter Group 0\n",
              "     dampening: 0\n",
              "     differentiable: False\n",
              "     foreach: None\n",
              "     lr: 0.01\n",
              "     maximize: False\n",
              "     momentum: 0\n",
              "     nesterov: False\n",
              "     weight_decay: 0\n",
              " ))"
            ]
          },
          "metadata": {},
          "execution_count": 20
        }
      ]
    },
    {
      "cell_type": "markdown",
      "source": [
        "### Building a Training loop (and testing loop) in Pytorch\n",
        "\n",
        "> A few things we need in a training loop:\n",
        "* **Loop through data**\n",
        "* **Forward Propation** (flowing of data through the Neural Network)\n",
        "* **Calculate Loss** (compare forward pass predictions to ground truth labels)\n",
        "* **Optimize zero grad**: clear all the gradient calculation.\n",
        "* **Backward Propagation**: (Move backwards to calculate the gradients of each of the parameters in our model with respect to loss, and which direction they should be going)\n",
        "* **Optimizer Step**: use optimizer to adjust our model's parameters, so that they are able to reduce loss, and go towards minima (**Backpropagation**)"
      ],
      "metadata": {
        "id": "AEJwo9PyiUae"
      }
    },
    {
      "cell_type": "code",
      "source": [
        "list(model_0.parameters())"
      ],
      "metadata": {
        "colab": {
          "base_uri": "https://localhost:8080/"
        },
        "id": "i9YnHhlAmUKh",
        "outputId": "8b58dbe6-bf76-4ff0-d8bc-4128d39746a7"
      },
      "execution_count": 21,
      "outputs": [
        {
          "output_type": "execute_result",
          "data": {
            "text/plain": [
              "[Parameter containing:\n",
              " tensor([0.3367], requires_grad=True),\n",
              " Parameter containing:\n",
              " tensor([0.3904], requires_grad=True)]"
            ]
          },
          "metadata": {},
          "execution_count": 21
        }
      ]
    },
    {
      "cell_type": "code",
      "source": [
        "EPOCHS = 200\n",
        "\n",
        "# Track different values\n",
        "epoch_count = []\n",
        "train_loss_values = []\n",
        "test_loss_values = []\n",
        "\n",
        "# 0. Loop through data\n",
        "for epoch in range(EPOCHS):\n",
        "  # Set model to training mode\n",
        "  model_0.train() # train mode sets all\n",
        "  # model parameters' property to requires gradients computation to True\n",
        "\n",
        "  # 1. Forward Propagation\n",
        "  y_preds = model_0(X_train)\n",
        "\n",
        "  # 2. Calculate Loss\n",
        "  loss = loss_fn(y_train, y_preds)\n",
        "\n",
        "  # 3. Optimizer zero grad - optimizer makes gradients for each parameter,\n",
        "  # but once we go to next batch/epoch they all should be cleared out,\n",
        "  # so that weigths and bias do not follow the previous epochs gradients\n",
        "  optimizer.zero_grad()\n",
        "\n",
        "  # 4. Perform Backpropagation on the loss with respect to parameters\n",
        "  # computes gradients for each model trainable parameter\n",
        "  loss.backward()\n",
        "\n",
        "  # 5. Step the optimizer (perform gradient descent)\n",
        "  # Based on the gradients, it updates the values of the parameters\n",
        "  optimizer.step()\n",
        "\n",
        "  model_0.eval() # turns off gradient tracking (faster in making predictions)\n",
        "  with torch.inference_mode():\n",
        "  # with torch.no_grad():\n",
        "    # Do forward prpopagation\n",
        "    test_preds = model_0(X_test)\n",
        "    # Calculate loss\n",
        "    test_loss = loss_fn(y_test, test_preds)\n",
        "\n",
        "  # Printing Train/Test Loss and losses/epochs to list\n",
        "  epoch_count.append(epoch)\n",
        "  train_loss_values.append(loss.detach().numpy())\n",
        "  test_loss_values.append(test_loss.detach().numpy())\n",
        "\n",
        "  if epoch % 10 == 0:\n",
        "    print(f'Epoch: {epoch} | Train Loss/MAE: {loss} | Test Loss/MAE: {test_loss}')\n",
        "    print(model_0.state_dict())\n"
      ],
      "metadata": {
        "colab": {
          "base_uri": "https://localhost:8080/"
        },
        "id": "seDncFEQkGlZ",
        "outputId": "6ed19752-0d97-44c0-e28e-82dc5ce9f685"
      },
      "execution_count": 22,
      "outputs": [
        {
          "output_type": "stream",
          "name": "stdout",
          "text": [
            "Epoch: 0 | Train Loss/MAE: 0.08169572055339813 | Test Loss/MAE: 0.22662055492401123\n",
            "OrderedDict([('weights', tensor([0.3398])), ('bias', tensor([0.3939]))])\n",
            "Epoch: 10 | Train Loss/MAE: 0.06808149069547653 | Test Loss/MAE: 0.1807345449924469\n",
            "OrderedDict([('weights', tensor([0.3672])), ('bias', tensor([0.4154]))])\n",
            "Epoch: 20 | Train Loss/MAE: 0.06258393079042435 | Test Loss/MAE: 0.15627031028270721\n",
            "OrderedDict([('weights', tensor([0.3891])), ('bias', tensor([0.4204]))])\n",
            "Epoch: 30 | Train Loss/MAE: 0.05879194289445877 | Test Loss/MAE: 0.1418602615594864\n",
            "OrderedDict([('weights', tensor([0.4081])), ('bias', tensor([0.4179]))])\n",
            "Epoch: 40 | Train Loss/MAE: 0.05530194193124771 | Test Loss/MAE: 0.13084018230438232\n",
            "OrderedDict([('weights', tensor([0.4261])), ('bias', tensor([0.4129]))])\n",
            "Epoch: 50 | Train Loss/MAE: 0.051822252571582794 | Test Loss/MAE: 0.12050700187683105\n",
            "OrderedDict([('weights', tensor([0.4439])), ('bias', tensor([0.4074]))])\n",
            "Epoch: 60 | Train Loss/MAE: 0.04838593676686287 | Test Loss/MAE: 0.11223447322845459\n",
            "OrderedDict([('weights', tensor([0.4610])), ('bias', tensor([0.4004]))])\n",
            "Epoch: 70 | Train Loss/MAE: 0.044948760420084 | Test Loss/MAE: 0.10464880615472794\n",
            "OrderedDict([('weights', tensor([0.4780])), ('bias', tensor([0.3929]))])\n",
            "Epoch: 80 | Train Loss/MAE: 0.04152031987905502 | Test Loss/MAE: 0.09637625515460968\n",
            "OrderedDict([('weights', tensor([0.4951])), ('bias', tensor([0.3859]))])\n",
            "Epoch: 90 | Train Loss/MAE: 0.03808232396841049 | Test Loss/MAE: 0.08810374140739441\n",
            "OrderedDict([('weights', tensor([0.5123])), ('bias', tensor([0.3789]))])\n",
            "Epoch: 100 | Train Loss/MAE: 0.034646838903427124 | Test Loss/MAE: 0.08051808178424835\n",
            "OrderedDict([('weights', tensor([0.5293])), ('bias', tensor([0.3714]))])\n",
            "Epoch: 110 | Train Loss/MAE: 0.031217509880661964 | Test Loss/MAE: 0.0722455382347107\n",
            "OrderedDict([('weights', tensor([0.5464])), ('bias', tensor([0.3644]))])\n",
            "Epoch: 120 | Train Loss/MAE: 0.027778705582022667 | Test Loss/MAE: 0.06397300213575363\n",
            "OrderedDict([('weights', tensor([0.5636])), ('bias', tensor([0.3574]))])\n",
            "Epoch: 130 | Train Loss/MAE: 0.024344902485609055 | Test Loss/MAE: 0.05638733506202698\n",
            "OrderedDict([('weights', tensor([0.5805])), ('bias', tensor([0.3499]))])\n",
            "Epoch: 140 | Train Loss/MAE: 0.020913895219564438 | Test Loss/MAE: 0.04811479523777962\n",
            "OrderedDict([('weights', tensor([0.5977])), ('bias', tensor([0.3429]))])\n",
            "Epoch: 150 | Train Loss/MAE: 0.017475087195634842 | Test Loss/MAE: 0.03984225541353226\n",
            "OrderedDict([('weights', tensor([0.6148])), ('bias', tensor([0.3359]))])\n",
            "Epoch: 160 | Train Loss/MAE: 0.014042967930436134 | Test Loss/MAE: 0.0322565920650959\n",
            "OrderedDict([('weights', tensor([0.6318])), ('bias', tensor([0.3284]))])\n",
            "Epoch: 170 | Train Loss/MAE: 0.010610274039208889 | Test Loss/MAE: 0.02398405596613884\n",
            "OrderedDict([('weights', tensor([0.6490])), ('bias', tensor([0.3214]))])\n",
            "Epoch: 180 | Train Loss/MAE: 0.007171472068876028 | Test Loss/MAE: 0.015711510553956032\n",
            "OrderedDict([('weights', tensor([0.6661])), ('bias', tensor([0.3144]))])\n",
            "Epoch: 190 | Train Loss/MAE: 0.003741039428859949 | Test Loss/MAE: 0.008125847205519676\n",
            "OrderedDict([('weights', tensor([0.6831])), ('bias', tensor([0.3069]))])\n"
          ]
        }
      ]
    },
    {
      "cell_type": "code",
      "source": [
        "model_0.state_dict()"
      ],
      "metadata": {
        "colab": {
          "base_uri": "https://localhost:8080/"
        },
        "id": "EBwsPSDKtmeZ",
        "outputId": "29913d77-c984-42cb-af18-5f51f1e0fe98"
      },
      "execution_count": 23,
      "outputs": [
        {
          "output_type": "execute_result",
          "data": {
            "text/plain": [
              "OrderedDict([('weights', tensor([0.6962])), ('bias', tensor([0.3064]))])"
            ]
          },
          "metadata": {},
          "execution_count": 23
        }
      ]
    },
    {
      "cell_type": "code",
      "source": [
        "list(model_0.parameters())"
      ],
      "metadata": {
        "colab": {
          "base_uri": "https://localhost:8080/"
        },
        "id": "Z9P9KuO7tmg1",
        "outputId": "70faf273-5ba1-4b60-b231-1741dded2ac9"
      },
      "execution_count": 24,
      "outputs": [
        {
          "output_type": "execute_result",
          "data": {
            "text/plain": [
              "[Parameter containing:\n",
              " tensor([0.6962], requires_grad=True),\n",
              " Parameter containing:\n",
              " tensor([0.3064], requires_grad=True)]"
            ]
          },
          "metadata": {},
          "execution_count": 24
        }
      ]
    },
    {
      "cell_type": "code",
      "source": [
        "with torch.inference_mode():\n",
        "  y_pred = model_0(X_test)"
      ],
      "metadata": {
        "id": "9asjLJ7XvkjY"
      },
      "execution_count": 25,
      "outputs": []
    },
    {
      "cell_type": "code",
      "source": [
        "y_pred"
      ],
      "metadata": {
        "colab": {
          "base_uri": "https://localhost:8080/"
        },
        "id": "1eZbfKQvvyXx",
        "outputId": "756e9f01-b86a-409f-ede0-5b2da59f92e8"
      },
      "execution_count": 26,
      "outputs": [
        {
          "output_type": "execute_result",
          "data": {
            "text/plain": [
              "tensor([[0.8634],\n",
              "        [0.8773],\n",
              "        [0.8913],\n",
              "        [0.9052],\n",
              "        [0.9191],\n",
              "        [0.9330],\n",
              "        [0.9469],\n",
              "        [0.9609],\n",
              "        [0.9748],\n",
              "        [0.9887]])"
            ]
          },
          "metadata": {},
          "execution_count": 26
        }
      ]
    },
    {
      "cell_type": "code",
      "source": [
        "print(f'Test Loss: {loss_fn(y_test, y_pred)}')"
      ],
      "metadata": {
        "colab": {
          "base_uri": "https://localhost:8080/"
        },
        "id": "ShgR3gr_zq2j",
        "outputId": "ec298cb4-bb36-4271-ca6c-9da239820abf"
      },
      "execution_count": 27,
      "outputs": [
        {
          "output_type": "stream",
          "name": "stdout",
          "text": [
            "Test Loss: 0.0030598342418670654\n"
          ]
        }
      ]
    },
    {
      "cell_type": "code",
      "source": [
        "plot_predictions(predictions=y_pred)"
      ],
      "metadata": {
        "colab": {
          "base_uri": "https://localhost:8080/",
          "height": 452
        },
        "id": "I58Kwd3evzGp",
        "outputId": "1cea43e1-1ff2-4e45-bd78-37762d675cf1"
      },
      "execution_count": 28,
      "outputs": [
        {
          "output_type": "display_data",
          "data": {
            "text/plain": [
              "<Figure size 640x480 with 1 Axes>"
            ],
            "image/png": "[encoded data removed]"
          },
          "metadata": {}
        }
      ]
    },
    {
      "cell_type": "markdown",
      "source": [
        "#### Plotting the training loss and testing loss"
      ],
      "metadata": {
        "id": "nnZkiqoBzybY"
      }
    },
    {
      "cell_type": "code",
      "source": [
        "train_loss_values[:5]"
      ],
      "metadata": {
        "colab": {
          "base_uri": "https://localhost:8080/"
        },
        "id": "XP7Un1JW1cfD",
        "outputId": "5217ef74-9742-4695-edfe-d110d5b8f199"
      },
      "execution_count": 29,
      "outputs": [
        {
          "output_type": "execute_result",
          "data": {
            "text/plain": [
              "[array(0.08169572, dtype=float32),\n",
              " array(0.07951223, dtype=float32),\n",
              " array(0.07771821, dtype=float32),\n",
              " array(0.07596268, dtype=float32),\n",
              " array(0.07452543, dtype=float32)]"
            ]
          },
          "metadata": {},
          "execution_count": 29
        }
      ]
    },
    {
      "cell_type": "code",
      "source": [
        "plt.title('Training & Testing Loss graph over 200 epochs')\n",
        "plt.plot(epoch_count, train_loss_values, color='blue', label='Train Loss')\n",
        "plt.plot(epoch_count, test_loss_values, color='orange', label='Test Loss')\n",
        "plt.legend()\n",
        "plt.xlabel('Epochs')\n",
        "plt.ylabel('Loss')"
      ],
      "metadata": {
        "colab": {
          "base_uri": "https://localhost:8080/",
          "height": 489
        },
        "id": "q29xsOyn0-tn",
        "outputId": "09458e25-d213-4724-8a6c-b16e26bdd3f3"
      },
      "execution_count": 30,
      "outputs": [
        {
          "output_type": "execute_result",
          "data": {
            "text/plain": [
              "Text(0, 0.5, 'Loss')"
            ]
          },
          "metadata": {},
          "execution_count": 30
        },
        {
          "output_type": "display_data",
          "data": {
            "text/plain": [
              "<Figure size 640x480 with 1 Axes>"
            ],
            "image/png": "[encoded data removed]"
          },
          "metadata": {}
        }
      ]
    },
    {
      "cell_type": "markdown",
      "source": [
        "## Saving and re-loading our Pytorch model\n",
        "\n",
        "There are three main methods you should know about saving and re-loading models in PyTorch.\n",
        "\n",
        "* **`torch.save()`** - allows you save a Pytorch object in Python's pickle format\n",
        "\n",
        "* **`torch.load()`** - allows you to load a saved a Pytorch object\n",
        "* **`torch.nn.Module.load_state_dict()`** - allows you to load a model's state dictionary"
      ],
      "metadata": {
        "id": "8OkjYmAIiyX4"
      }
    },
    {
      "cell_type": "code",
      "source": [
        "model_0.state_dict()"
      ],
      "metadata": {
        "colab": {
          "base_uri": "https://localhost:8080/"
        },
        "id": "RDrTeQSXiwnr",
        "outputId": "9cf433f9-3870-494a-9fca-355de19d145c"
      },
      "execution_count": 31,
      "outputs": [
        {
          "output_type": "execute_result",
          "data": {
            "text/plain": [
              "OrderedDict([('weights', tensor([0.6962])), ('bias', tensor([0.3064]))])"
            ]
          },
          "metadata": {},
          "execution_count": 31
        }
      ]
    },
    {
      "cell_type": "code",
      "source": [
        "# Saving our PyTorch model\n",
        "from pathlib import Path\n",
        "\n",
        "# 1. Create models directory\n",
        "MODEL_PATH = Path(\"models\")\n",
        "MODEL_PATH.mkdir(parents=True, exist_ok=True)\n",
        "\n",
        "# 2. Create model save path\n",
        "MODEL_NAME = \"pytorch_worflow_model_0.pth\"\n",
        "MODEL_SAVE_PATH = MODEL_PATH / MODEL_NAME\n",
        "MODEL_SAVE_PATH"
      ],
      "metadata": {
        "colab": {
          "base_uri": "https://localhost:8080/"
        },
        "id": "OhIdXCw5vbKj",
        "outputId": "9706d938-dd88-4f72-b385-e745be0038cf"
      },
      "execution_count": 32,
      "outputs": [
        {
          "output_type": "execute_result",
          "data": {
            "text/plain": [
              "PosixPath('models/pytorch_worflow_model_0.pth')"
            ]
          },
          "metadata": {},
          "execution_count": 32
        }
      ]
    },
    {
      "cell_type": "code",
      "source": [
        "# 3. Save the Model's state dict\n",
        "torch.save(model_0.state_dict(), MODEL_SAVE_PATH)\n",
        "print(f'Model saved to: {MODEL_SAVE_PATH}')"
      ],
      "metadata": {
        "colab": {
          "base_uri": "https://localhost:8080/"
        },
        "id": "s0LntLMswUpJ",
        "outputId": "a586e783-bf48-4d1a-e15b-f92fb9496ae6"
      },
      "execution_count": 33,
      "outputs": [
        {
          "output_type": "stream",
          "name": "stdout",
          "text": [
            "Model saved to: models/pytorch_worflow_model_0.pth\n"
          ]
        }
      ]
    },
    {
      "cell_type": "code",
      "source": [
        "# check the saved file path\n",
        "!ls -l models/pytorch_worflow_model_0.pth"
      ],
      "metadata": {
        "colab": {
          "base_uri": "https://localhost:8080/"
        },
        "id": "IVQ_ZU4ZzowV",
        "outputId": "2f81cb62-ad62-4963-bb78-343ccf2cd162"
      },
      "execution_count": 34,
      "outputs": [
        {
          "output_type": "stream",
          "name": "stdout",
          "text": [
            "-rw-r--r-- 1 root root 1656 Oct 29 09:45 models/pytorch_worflow_model_0.pth\n"
          ]
        }
      ]
    },
    {
      "cell_type": "markdown",
      "source": [
        "### Loading our Pytorch Model's state dictionary\n",
        "\n",
        "> Since we have saved our Pytorch model's `state_dict()`, in order to load it back, we need to make a new instance of our `LinearRegressionModel()` class, where we can load these weight values"
      ],
      "metadata": {
        "id": "kDJJx0W-xWiW"
      }
    },
    {
      "cell_type": "code",
      "source": [
        "# Create a new instance of our Linear Regression model\n",
        "loaded_model_0 = LinearRegressionModel()\n",
        "\n",
        "# Loading our model's saved state dict into our new model\n",
        "loaded_model_0.load_state_dict(torch.load(f=MODEL_SAVE_PATH))"
      ],
      "metadata": {
        "colab": {
          "base_uri": "https://localhost:8080/"
        },
        "id": "H9EtpLXjxHWI",
        "outputId": "6cf57401-0a38-408b-f7d9-b040f4a8cea4"
      },
      "execution_count": 35,
      "outputs": [
        {
          "output_type": "execute_result",
          "data": {
            "text/plain": [
              "<All keys matched successfully>"
            ]
          },
          "metadata": {},
          "execution_count": 35
        }
      ]
    },
    {
      "cell_type": "code",
      "source": [
        "# check if the loaded model has the same weight & bias values as the trained model\n",
        "loaded_model_0.state_dict()"
      ],
      "metadata": {
        "colab": {
          "base_uri": "https://localhost:8080/"
        },
        "id": "dASi1hZYxna9",
        "outputId": "7eabfab7-5513-411d-a824-18ca95218c45"
      },
      "execution_count": 36,
      "outputs": [
        {
          "output_type": "execute_result",
          "data": {
            "text/plain": [
              "OrderedDict([('weights', tensor([0.6962])), ('bias', tensor([0.3064]))])"
            ]
          },
          "metadata": {},
          "execution_count": 36
        }
      ]
    },
    {
      "cell_type": "code",
      "source": [
        "# Make some predictions with our loaded model\n",
        "loaded_model_0.eval()\n",
        "with torch.inference_mode():\n",
        "  loaded_y_preds = loaded_model_0(X_test)\n",
        "loaded_y_preds"
      ],
      "metadata": {
        "colab": {
          "base_uri": "https://localhost:8080/"
        },
        "id": "2I4W-64C09z3",
        "outputId": "6c74f770-1d20-49d3-f09f-261e282f3dd6"
      },
      "execution_count": 37,
      "outputs": [
        {
          "output_type": "execute_result",
          "data": {
            "text/plain": [
              "tensor([[0.8634],\n",
              "        [0.8773],\n",
              "        [0.8913],\n",
              "        [0.9052],\n",
              "        [0.9191],\n",
              "        [0.9330],\n",
              "        [0.9469],\n",
              "        [0.9609],\n",
              "        [0.9748],\n",
              "        [0.9887]])"
            ]
          },
          "metadata": {},
          "execution_count": 37
        }
      ]
    },
    {
      "cell_type": "code",
      "source": [
        "print(f'Test Loss: {loss_fn(y_test, loaded_y_preds)}')"
      ],
      "metadata": {
        "colab": {
          "base_uri": "https://localhost:8080/"
        },
        "id": "fsIK-Gsl1bP6",
        "outputId": "ef9ae8c5-19cb-4857-ac53-6d61c9063dbc"
      },
      "execution_count": 39,
      "outputs": [
        {
          "output_type": "stream",
          "name": "stdout",
          "text": [
            "Test Loss: 0.0030598342418670654\n"
          ]
        }
      ]
    },
    {
      "cell_type": "code",
      "source": [
        "plot_predictions(predictions=loaded_y_preds)"
      ],
      "metadata": {
        "colab": {
          "base_uri": "https://localhost:8080/",
          "height": 452
        },
        "id": "vOF_1zaz1gR3",
        "outputId": "482faa4d-cb51-4945-8302-e3d48b559f18"
      },
      "execution_count": 40,
      "outputs": [
        {
          "output_type": "display_data",
          "data": {
            "text/plain": [
              "<Figure size 640x480 with 1 Axes>"
            ],
            "image/png": "[encoded data removed]"
          },
          "metadata": {}
        }
      ]
    }
  ]
}